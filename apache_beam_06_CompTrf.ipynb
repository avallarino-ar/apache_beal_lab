{
 "cells": [
  {
   "cell_type": "markdown",
   "metadata": {
    "id": "wbLwcf7P98xD"
   },
   "source": [
    "### Composite Transforms\n",
    "\n",
    "Transforms can have a nested structure, where a complex transform performs multiple simpler transforms (such as more than one ParDo, Combine, GroupByKey, or even other composite transforms). These transforms are called composite transforms.  \n",
    "Nesting multiple transforms inside a single composite transform can make your code more modular and easier to understand.\n"
   ]
  },
  {
   "cell_type": "code",
   "execution_count": 2,
   "metadata": {},
   "outputs": [
    {
     "name": "stderr",
     "output_type": "stream",
     "text": [
      "WARNING:apache_beam.io.filebasedsink:Deleting 1 existing files in target path matching: -*-of-%(num_shards)05d\n",
      "WARNING:apache_beam.io.filebasedsink:Deleting 1 existing files in target path matching: -*-of-%(num_shards)05d\n"
     ]
    },
    {
     "name": "stdout",
     "output_type": "stream",
     "text": [
      "('Accounts, Marco', '31', 'Regular employee')\n",
      "('Accounts, Rebekah', '31', 'Regular employee')\n",
      "('Accounts, Itoe', '31', 'Regular employee')\n",
      "('Accounts, Edouard', '31', 'Regular employee')\n",
      "('Accounts, Kyle', '62', 'Regular employee')\n",
      "('Accounts, Kumiko', '31', 'Regular employee')\n",
      "('Accounts, Gaston', '31', 'Regular employee')\n",
      "('HR, Beryl', '62', 'Regular employee')\n",
      "('HR, Olga', '31', 'Regular employee')\n",
      "('HR, Leslie', '31', 'Regular employee')\n",
      "('HR, Mindy', '31', 'Regular employee')\n",
      "('HR, Vicky', '31', 'Regular employee')\n",
      "('HR, Richard', '31', 'Regular employee')\n",
      "('HR, Kirk', '31', 'Regular employee')\n",
      "('HR, Kaori', '31', 'Regular employee')\n",
      "('HR, Oscar', '31', 'Regular employee')\n"
     ]
    }
   ],
   "source": [
    "import apache_beam as beam\n",
    "\n",
    "class MyTransform(beam.PTransform):\n",
    "    \"\"\" Transform with common tasks \"\"\"\n",
    "    def expand(self, input_coll):\n",
    "        a = ( \n",
    "            input_coll\n",
    "            | 'Group and sum' >> beam.CombinePerKey(sum)\n",
    "            | 'count filter' >> beam.Filter(filter_on_count)\n",
    "            | 'Regular employee' >> beam.Map(format_output)\n",
    "        )\n",
    "        return a\n",
    "\n",
    "    \n",
    "def SplitRow(element):\n",
    "    return element.split(',')\n",
    "\n",
    "\n",
    "def filter_on_count(element):\n",
    "    name, count = element\n",
    "    if count > 30:\n",
    "        return element\n",
    "\n",
    "    \n",
    "def format_output(element):\n",
    "    name, count = element\n",
    "    # return ', '.join((name.encode('ascii'),str(count),'Regular employee'))\n",
    "    return (name, str(count), 'Regular employee')\n",
    "\n",
    "\n",
    "with beam.Pipeline() as pipe:\n",
    "    input_collection = (\n",
    "        pipe \n",
    "        | \"Read file\" >> beam.io.ReadFromText('data/dept_data.txt')\n",
    "        | \"Split rows\" >> beam.Map(SplitRow)\n",
    "    )\n",
    "\n",
    "    accounts_count = (\n",
    "        input_collection\n",
    "        | 'Get all Accounts dept persons' >> beam.Filter(lambda record: record[3] == 'Accounts')\n",
    "        | 'Pair each accounts employee with 1' >> beam.Map(lambda record: (\"Accounts, \" +record[1], 1))\n",
    "        | 'composite accounts' >> MyTransform()\n",
    "        | 'Write results for account' >> beam.io.WriteToText('data/Account')\n",
    "    )\n",
    "\n",
    "    hr_count = (\n",
    "        input_collection\n",
    "        | 'Get all HR dept persons' >> beam.Filter(lambda record: record[3] == 'HR')\n",
    "        | 'Pair each hr employee with 1' >> beam.Map(lambda record: (\"HR, \" +record[1], 1))\n",
    "        | 'composite HR' >> MyTransform()\n",
    "        | 'Write results for hr' >> beam.io.WriteToText('data/HR')\n",
    "    )\n",
    "\n",
    "# visualize output\n",
    "!{('head -n 20 data/Account-00000-of-00001')}\n",
    "!{('head -n 20 data/HR-00000-of-00001')}"
   ]
  },
  {
   "cell_type": "code",
   "execution_count": null,
   "metadata": {},
   "outputs": [],
   "source": []
  }
 ],
 "metadata": {
  "colab": {
   "collapsed_sections": [],
   "name": "apache_beam_01.ipynb",
   "provenance": []
  },
  "kernelspec": {
   "display_name": "Python 3",
   "language": "python",
   "name": "python3"
  },
  "language_info": {
   "codemirror_mode": {
    "name": "ipython",
    "version": 3
   },
   "file_extension": ".py",
   "mimetype": "text/x-python",
   "name": "python",
   "nbconvert_exporter": "python",
   "pygments_lexer": "ipython3",
   "version": "3.8.0"
  }
 },
 "nbformat": 4,
 "nbformat_minor": 4
}
