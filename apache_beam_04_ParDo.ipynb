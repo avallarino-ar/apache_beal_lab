{
 "cells": [
  {
   "cell_type": "markdown",
   "metadata": {
    "id": "wbLwcf7P98xD"
   },
   "source": [
    "### ParDo\n",
    "a Beam transform for generic parallel processing\n",
    "\n",
    "ParDo is useful for a variety of common data processing operations, including:\n",
    "\n",
    "+ Filtering a data set. You can use ParDo to consider each element in a PCollection and either output that element to a new collection or discard it.\n",
    "+ Formatting or type-converting each element in a data set. If your input PCollection contains elements that are of a different type or format than you want, you can use ParDo to perform a conversion on each element and output the result to a new PCollection.\n",
    "+ Extracting parts of each element in a data set. If you have a PCollection of records with multiple fields, for example, you can use a ParDo to parse out just the fields you want to consider into a new PCollection.\n",
    "+ Performing computations on each element in a data set. You can use ParDo to perform simple or complex computations on every element, or certain elements, of a PCollection and output the results as a new PCollection."
   ]
  },
  {
   "cell_type": "code",
   "execution_count": 2,
   "metadata": {},
   "outputs": [
    {
     "name": "stderr",
     "output_type": "stream",
     "text": [
      "WARNING:apache_beam.io.filebasedsink:Deleting 1 existing files in target path matching: -*-of-%(num_shards)05d\n"
     ]
    },
    {
     "name": "stdout",
     "output_type": "stream",
     "text": [
      "('Accounts,Marco', 31)\n",
      "('Accounts,Rebekah', 31)\n",
      "('Accounts,Itoe', 31)\n",
      "('Accounts,Edouard', 31)\n",
      "('Accounts,Kyle', 62)\n",
      "('Accounts,Kumiko', 31)\n",
      "('Accounts,Gaston', 31)\n",
      "('Accounts,Ayumi', 30)\n"
     ]
    }
   ],
   "source": [
    "import apache_beam as beam\n",
    "\n",
    "class SplitRow(beam.DoFn):\n",
    "    def process(self, element):\n",
    "        # return type -> list\n",
    "        yield  element.split(',')   # return, retorna valores separado, como un FlatMap. Se usa yield o return [] \n",
    "    \n",
    "class FilterAccountsEmployee(beam.DoFn):\n",
    "    def process(self, element):\n",
    "        if element[3] == 'Accounts':\n",
    "            yield element\n",
    "    \n",
    "class PairEmployees(beam.DoFn):\n",
    "    def process(self, element):\n",
    "        yield (element[3]+\",\"+element[1], 1)\n",
    "\n",
    "class Counting(beam.DoFn):\n",
    "    def process(self, element):       \n",
    "        (key, values) = element  \n",
    "        yield (key, sum(values))\n",
    "        \n",
    "        \n",
    "with beam.Pipeline() as pipe:\n",
    "\n",
    "    attendance_count = (\n",
    "        pipe\n",
    "        | beam.io.ReadFromText('data/dept_data.txt')\n",
    "\n",
    "        | beam.ParDo(SplitRow())\n",
    "       # | 'Compute WordLength' >> beam.ParDo(lambda element: [ element.split(',') ]) \n",
    "\n",
    "        | beam.ParDo(FilterAccountsEmployee())\n",
    "        | beam.ParDo(PairEmployees())\n",
    "        | 'Group ' >> beam.GroupByKey()  # Generate: ('Accounts,Marco', [1, 1, 1,...  ('Accounts,Rebekah', [1, 1, 1\n",
    "        | 'Sum using ParDo' >> beam.ParDo(Counting())  \n",
    "\n",
    "        |beam.io.WriteToText('data/output_new_final')\n",
    "    )\n",
    "\n",
    "    # Sample the first 20 results, remember there are no ordering guarantees.\n",
    "!{('head -n 20 data/output_new_final-00000-of-00001')}"
   ]
  }
 ],
 "metadata": {
  "colab": {
   "collapsed_sections": [],
   "name": "apache_beam_01.ipynb",
   "provenance": []
  },
  "kernelspec": {
   "display_name": "Python 3",
   "language": "python",
   "name": "python3"
  },
  "language_info": {
   "codemirror_mode": {
    "name": "ipython",
    "version": 3
   },
   "file_extension": ".py",
   "mimetype": "text/x-python",
   "name": "python",
   "nbconvert_exporter": "python",
   "pygments_lexer": "ipython3",
   "version": "3.8.0"
  }
 },
 "nbformat": 4,
 "nbformat_minor": 4
}
