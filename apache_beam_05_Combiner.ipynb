{
 "cells": [
  {
   "cell_type": "markdown",
   "metadata": {
    "id": "wbLwcf7P98xD"
   },
   "source": [
    "### Combine\n",
    "\n",
    "Combine is a Beam transform for combining collections of elements or values in your data. Combine has variants that work on entire PCollections, and some that combine the values for each key in PCollections of key/value pairs.\n",
    "\n",
    "When you apply a Combine transform, you must provide the function that contains the logic for combining the elements or values. The combining function should be **commutative** and **associative**, as the function is not necessarily invoked exactly once on all values with a given key. Because the input data (including the value collection) may be distributed across multiple workers, the combining function might be called multiple times to perform partial combining on subsets of the value collection. The Beam SDK also provides some pre-built combine functions for common numeric combination operations such as sum, min, and max."
   ]
  },
  {
   "cell_type": "code",
   "execution_count": 12,
   "metadata": {},
   "outputs": [
    {
     "name": "stdout",
     "output_type": "stream",
     "text": [
      "{'🥕': 0.3, '🍅': 0.6, '🍆': 0.1}\n"
     ]
    }
   ],
   "source": [
    "import apache_beam as beam\n",
    "\n",
    "class PercentagesFn(beam.CombineFn):\n",
    "    def create_accumulator(self):\n",
    "        return {}\n",
    "\n",
    "    def add_input(self, accumulator, input):\n",
    "        # accumulator == {}\n",
    "        # input == '🥕'\n",
    "        if input not in accumulator:\n",
    "            accumulator[input] = 0  # {'🥕': 0}\n",
    "        accumulator[input] += 1  # {'🥕': 1}\n",
    "        return accumulator\n",
    "\n",
    "    def merge_accumulators(self, accumulators):\n",
    "        # accumulators == [\n",
    "        #     {'🥕': 1, '🍅': 2},\n",
    "        #     {'🥕': 1, '🍅': 1, '🍆': 1},\n",
    "        #     {'🥕': 1, '🍅': 3},\n",
    "        # ]\n",
    "        merged = {}\n",
    "        for accum in accumulators:\n",
    "            for item, count in accum.items():\n",
    "                if item not in merged:\n",
    "                    merged[item] = 0\n",
    "                merged[item] += count\n",
    "        # merged == {'🥕': 3, '🍅': 6, '🍆': 1}\n",
    "        return merged\n",
    "\n",
    "    def extract_output(self, accumulator):\n",
    "        # accumulator == {'🥕': 3, '🍅': 6, '🍆': 1}\n",
    "        total = sum(accumulator.values())  # 10\n",
    "        percentages = {item: count / total for item, count in accumulator.items()}\n",
    "        # percentages == {'🥕': 0.3, '🍅': 0.6, '🍆': 0.1}\n",
    "        return percentages\n",
    "\n",
    "with beam.Pipeline() as pipeline:\n",
    "    percentages = (\n",
    "        pipeline\n",
    "        | 'Create produce' >> beam.Create(['🥕', '🍅', '🍅', '🥕', '🍆', '🍅', '🍅', '🍅', '🥕', '🍅'])\n",
    "        | 'Get percentages' >> beam.CombineGlobally(PercentagesFn())\n",
    "        | beam.Map(print))"
   ]
  },
  {
   "cell_type": "code",
   "execution_count": 21,
   "metadata": {},
   "outputs": [
    {
     "name": "stdout",
     "output_type": "stream",
     "text": [
      "10.5\n"
     ]
    }
   ],
   "source": [
    "import apache_beam as beam\n",
    "\n",
    "class AverageFn(beam.CombineFn):\n",
    "    def create_accumulator(self):\n",
    "        return (0.0, 0)   # initialize (sum, count)\n",
    "\n",
    "    def add_input(self, sum_count, input):\n",
    "        (sum, count) = sum_count\n",
    "        return sum + input, count + 1\n",
    "\n",
    "    def merge_accumulators(self, accumulators):\n",
    "        ind_sums, ind_counts = zip(*accumulators) # zip - [(27, 3), (39, 3), (18, 2)]  -->  [(27,39,18), (3,3,2)]\n",
    "        return sum(ind_sums), sum(ind_counts)     # (84,8)\n",
    "\n",
    "    def extract_output(self, sum_count):    \n",
    "        (sum, count) = sum_count    # combine globally using CombineFn\n",
    "        return sum / count if count else float('NaN')\n",
    "    \n",
    "with beam.Pipeline() as pipeline:\n",
    "    percentages = (\n",
    "        pipeline\n",
    "        | beam.Create([15,5,7,7,9,23,13,5])\n",
    "        | \"Combine Globally\" >> beam.CombineGlobally(AverageFn()) \n",
    "        \n",
    "        # | 'Write results' >> beam.io.WriteToText('output/combine')\n",
    "        | beam.Map(print)\n",
    "    )"
   ]
  },
  {
   "cell_type": "code",
   "execution_count": null,
   "metadata": {},
   "outputs": [],
   "source": []
  }
 ],
 "metadata": {
  "colab": {
   "collapsed_sections": [],
   "name": "apache_beam_01.ipynb",
   "provenance": []
  },
  "kernelspec": {
   "display_name": "Python 3",
   "language": "python",
   "name": "python3"
  },
  "language_info": {
   "codemirror_mode": {
    "name": "ipython",
    "version": 3
   },
   "file_extension": ".py",
   "mimetype": "text/x-python",
   "name": "python",
   "nbconvert_exporter": "python",
   "pygments_lexer": "ipython3",
   "version": "3.8.0"
  }
 },
 "nbformat": 4,
 "nbformat_minor": 4
}
