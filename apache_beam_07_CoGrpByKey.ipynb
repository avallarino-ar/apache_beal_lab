{
 "cells": [
  {
   "cell_type": "markdown",
   "metadata": {
    "id": "wbLwcf7P98xD"
   },
   "source": [
    "### CoGroupByKey\n",
    "\n",
    "Performs a relational join of two or more key/value PCollections that have the same key type, when you have multiple data sets that provide information about related things."
   ]
  },
  {
   "cell_type": "code",
   "execution_count": null,
   "metadata": {},
   "outputs": [],
   "source": [
    "import apache_beam as beam\n",
    "\n",
    "def retTuple(element):\n",
    "    thisTuple=element.split(',')\n",
    "    return (thisTuple[0], thisTuple[1:])\n",
    "         \n",
    "\n",
    "with beam.Pipeline() as pipe:\n",
    "\n",
    "    dep_rows = (\n",
    "        pipe\n",
    "        | \"Reading File 1\" >> beam.io.ReadFromText('data/dept_data.txt')\n",
    "        | 'Pair each employee with key' >> beam.Map(retTuple)          # {149633CM : [Marco,10,Accounts,1-01-2019]}\n",
    "    )\n",
    "\n",
    "\n",
    "    loc_rows = (\n",
    "        pipe\n",
    "        | \"Reading File 2\" >> beam.io.ReadFromText('data/location.txt') \n",
    "        | 'Pair each loc with key' >> beam.Map(retTuple)                # {149633CM : [9876843261,New York]}\n",
    "    )\n",
    "\n",
    "\n",
    "    results = ({'dep_data': dep_rows, 'loc_data': loc_rows}            \n",
    "               | beam.CoGroupByKey()\n",
    "               | 'Write results' >> beam.io.WriteToText('output/result')\n",
    "              )\n",
    "\n",
    "# Visualize output\n",
    "!{('head -n 20 output/result-00000-of-00001')}"
   ]
  }
 ],
 "metadata": {
  "colab": {
   "collapsed_sections": [],
   "name": "apache_beam_01.ipynb",
   "provenance": []
  },
  "kernelspec": {
   "display_name": "Python 3",
   "language": "python",
   "name": "python3"
  },
  "language_info": {
   "codemirror_mode": {
    "name": "ipython",
    "version": 3
   },
   "file_extension": ".py",
   "mimetype": "text/x-python",
   "name": "python",
   "nbconvert_exporter": "python",
   "pygments_lexer": "ipython3",
   "version": "3.8.0"
  }
 },
 "nbformat": 4,
 "nbformat_minor": 4
}
