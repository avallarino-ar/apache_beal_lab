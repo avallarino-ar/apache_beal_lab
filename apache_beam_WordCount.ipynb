{
 "cells": [
  {
   "cell_type": "markdown",
   "metadata": {
    "id": "wbLwcf7P98xD"
   },
   "source": [
    "### Word Count = Hello World"
   ]
  },
  {
   "cell_type": "code",
   "execution_count": null,
   "metadata": {
    "id": "Z5kcI7mrC090"
   },
   "outputs": [],
   "source": [
    "import apache_beam as beam\n",
    "import re\n",
    "\n",
    "outputs_pipe = 'output/part'\n",
    "\n",
    "with beam.Pipeline() as pipeline:\n",
    "    lines = (\n",
    "        pipeline\n",
    "        | \"Read from text file\" >> beam.io.ReadFromText('data/text_file.txt')\n",
    "        | 'Find words' >> beam.FlatMap(lambda line: re.findall(r\"[a-zA-Z']+\", line))\n",
    "        | 'Pair words with 1' >> beam.Map(lambda word: (word, 1))\n",
    "        | 'Word count' >> beam.CombinePerKey(sum)\n",
    "#        | 'Write results' >> beam.io.WriteToText(outputs_pipe)\n",
    "        | 'Print results' >> beam.Map(print)        \n",
    "    )\n",
    "    \n",
    "# visualize output\n",
    "# !{('head -n 30 output/part-00000-of-00001')}      "
   ]
  },
  {
   "cell_type": "code",
   "execution_count": null,
   "metadata": {},
   "outputs": [],
   "source": []
  }
 ],
 "metadata": {
  "colab": {
   "collapsed_sections": [],
   "name": "apache_beam_01.ipynb",
   "provenance": []
  },
  "kernelspec": {
   "display_name": "Python 3",
   "language": "python",
   "name": "python3"
  },
  "language_info": {
   "codemirror_mode": {
    "name": "ipython",
    "version": 3
   },
   "file_extension": ".py",
   "mimetype": "text/x-python",
   "name": "python",
   "nbconvert_exporter": "python",
   "pygments_lexer": "ipython3",
   "version": "3.8.0"
  }
 },
 "nbformat": 4,
 "nbformat_minor": 4
}
