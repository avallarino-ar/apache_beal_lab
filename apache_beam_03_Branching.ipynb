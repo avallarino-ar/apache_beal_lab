{
 "cells": [
  {
   "cell_type": "markdown",
   "metadata": {
    "id": "wbLwcf7P98xD"
   },
   "source": [
    "### Pipeline - Branching\n",
    "(multiple Transforms to a single PCollections)\n",
    "#### 1- Individual outputs:"
   ]
  },
  {
   "cell_type": "code",
   "execution_count": 3,
   "metadata": {},
   "outputs": [
    {
     "name": "stderr",
     "output_type": "stream",
     "text": [
      "WARNING:apache_beam.io.filebasedsink:Deleting 1 existing files in target path matching: -*-of-%(num_shards)05d\n",
      "WARNING:apache_beam.io.filebasedsink:Deleting 1 existing files in target path matching: -*-of-%(num_shards)05d\n"
     ]
    },
    {
     "name": "stdout",
     "output_type": "stream",
     "text": [
      "('Accounts, Marco', 31)\n",
      "('Accounts, Rebekah', 31)\n",
      "('Accounts, Itoe', 31)\n",
      "('Accounts, Edouard', 31)\n",
      "('Accounts, Kyle', 62)\n",
      "('Accounts, Kumiko', 31)\n",
      "('Accounts, Gaston', 31)\n",
      "('Accounts, Ayumi', 30)\n",
      "('HR, Beryl', 62)\n",
      "('HR, Olga', 31)\n",
      "('HR, Leslie', 31)\n",
      "('HR, Mindy', 31)\n",
      "('HR, Vicky', 31)\n",
      "('HR, Richard', 31)\n",
      "('HR, Kirk', 31)\n",
      "('HR, Kaori', 31)\n",
      "('HR, Oscar', 31)\n"
     ]
    }
   ],
   "source": [
    "import apache_beam as beam\n",
    "\n",
    "with beam.Pipeline() as pipe:\n",
    "    input_collection = (\n",
    "        pipe\n",
    "        | \"Read file\" >> beam.io.ReadFromText('data/dept_data.txt')\n",
    "        | \"Split\" >> beam.Map(lambda record: record.split(','))\n",
    "    )\n",
    "\n",
    "    accounts_count = (\n",
    "        input_collection\n",
    "        | 'Get all Accounts dept persons' >> beam.Filter(lambda record: record[3] == 'Accounts')\n",
    "        | 'Pair each accounts employee with 1' >> beam.Map(lambda record: (\"Accounts, \" +record[1], 1))\n",
    "        | 'Group and sum Accounts' >> beam.CombinePerKey(sum)\n",
    "        | 'Write results for account' >> beam.io.WriteToText('output/Account')\n",
    "    )\n",
    "\n",
    "    hr_count = (\n",
    "        input_collection\n",
    "        | 'Get all HR dept persons' >> beam.Filter(lambda record: record[3] == 'HR')\n",
    "        | 'Pair each hr employee with 1' >> beam.Map(lambda record: (\"HR, \" +record[1], 1))\n",
    "        | 'Group and sum HR' >> beam.CombinePerKey(sum)\n",
    "        | 'Write results for hr' >> beam.io.WriteToText('output/HR')\n",
    "    )\n",
    "    \n",
    "# visualize output\n",
    "!{('head -n 20 output/Account-00000-of-00001')}\n",
    "\n",
    "!{('head -n 20 output/HR-00000-of-00001')}"
   ]
  },
  {
   "cell_type": "markdown",
   "metadata": {},
   "source": [
    "#### 2.- Simgle output:"
   ]
  },
  {
   "cell_type": "code",
   "execution_count": 2,
   "metadata": {},
   "outputs": [
    {
     "name": "stdout",
     "output_type": "stream",
     "text": [
      "('Accounts, Marco', 31)\n",
      "('Accounts, Rebekah', 31)\n",
      "('Accounts, Itoe', 31)\n",
      "('Accounts, Edouard', 31)\n",
      "('Accounts, Kyle', 62)\n",
      "('Accounts, Kumiko', 31)\n",
      "('Accounts, Gaston', 31)\n",
      "('Accounts, Ayumi', 30)\n",
      "('HR, Beryl', 62)\n",
      "('HR, Olga', 31)\n",
      "('HR, Leslie', 31)\n",
      "('HR, Mindy', 31)\n",
      "('HR, Vicky', 31)\n",
      "('HR, Richard', 31)\n",
      "('HR, Kirk', 31)\n"
     ]
    }
   ],
   "source": [
    "import apache_beam as beam\n",
    "\n",
    "with beam.Pipeline() as pipe:\n",
    "\n",
    "    input_collection = ( \n",
    "        pipe\n",
    "        | \"Read from text file\" >> beam.io.ReadFromText('data/dept_data.txt')\n",
    "        | \"Split rows\" >> beam.Map(lambda record: record.split(','))\n",
    "    )\n",
    "\n",
    "    accounts_count = (\n",
    "        input_collection\n",
    "        | 'Get all Accounts dept persons' >> beam.Filter(lambda record: record[3] == 'Accounts')\n",
    "        | 'Pair each accounts employee with 1' >> beam.Map(lambda record: (\"Accounts, \" +record[1], 1))\n",
    "        | 'Group and sum Accounts' >> beam.CombinePerKey(sum)\n",
    "    )\n",
    "\n",
    "    hr_count = (\n",
    "        input_collection\n",
    "        | 'Get all HR dept persons' >> beam.Filter(lambda record: record[3] == 'HR')\n",
    "        | 'Pair each hr employee with 1' >> beam.Map(lambda record: (\"HR, \" +record[1], 1))\n",
    "        | 'Group and sum HR' >> beam.CombinePerKey(sum)\n",
    "    )\n",
    "\n",
    "    output =(\n",
    "        (accounts_count,hr_count)\n",
    "        | beam.Flatten()\n",
    "        | beam.io.WriteToText('output/both')\n",
    "    )\n",
    "\n",
    "# visualize output\n",
    "!{('head -n 15 output/both-00000-of-00001')}"
   ]
  }
 ],
 "metadata": {
  "colab": {
   "collapsed_sections": [],
   "name": "apache_beam_01.ipynb",
   "provenance": []
  },
  "kernelspec": {
   "display_name": "Python 3",
   "language": "python",
   "name": "python3"
  },
  "language_info": {
   "codemirror_mode": {
    "name": "ipython",
    "version": 3
   },
   "file_extension": ".py",
   "mimetype": "text/x-python",
   "name": "python",
   "nbconvert_exporter": "python",
   "pygments_lexer": "ipython3",
   "version": "3.8.0"
  }
 },
 "nbformat": 4,
 "nbformat_minor": 4
}
