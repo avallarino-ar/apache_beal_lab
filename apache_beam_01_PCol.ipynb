{
 "cells": [
  {
   "cell_type": "markdown",
   "metadata": {
    "id": "wbLwcf7P98xD"
   },
   "source": [
    "### Primer Pipeline\n",
    "#### Creating a PCollection from in-memory data\n"
   ]
  },
  {
   "cell_type": "code",
   "execution_count": 8,
   "metadata": {
    "colab": {
     "base_uri": "https://localhost:8080/"
    },
    "id": "qSYBeqF_C0mw",
    "outputId": "6f494602-331f-4486-ea0c-ded6eeb5fac3"
   },
   "outputs": [
    {
     "name": "stderr",
     "output_type": "stream",
     "text": [
      "WARNING:apache_beam.io.filebasedsink:Deleting 1 existing files in target path matching: -*-of-%(num_shards)05d\n"
     ]
    },
    {
     "name": "stdout",
     "output_type": "stream",
     "text": [
      "Intoducción a Apache Beam\n",
      "creando una PCollection \n",
      "donde cada una de estas líneas \n",
      "es un registro en la PCollection.\n"
     ]
    }
   ],
   "source": [
    "import apache_beam as beam\n",
    "\n",
    "p1 = beam.Pipeline()\n",
    "\n",
    "lines = (p1\n",
    "         | beam.Create(['Intoducción a Apache Beam',\n",
    "                        'creando una PCollection ',\n",
    "                        'donde cada una de estas líneas ',\n",
    "                        'es un registro en la PCollection.'])\n",
    "         | beam.io.WriteToText('outputs/outCreate1')\n",
    "         )\n",
    "p1.run()\n",
    "\n",
    "# visualize output\n",
    "!{('head -n 10 outputs/outCreate1-00000-of-00001')}"
   ]
  },
  {
   "cell_type": "code",
   "execution_count": 4,
   "metadata": {
    "colab": {
     "base_uri": "https://localhost:8080/"
    },
    "id": "-UVq9ppjC0yr",
    "outputId": "d311d2d8-bbb0-4631-f77e-fa7f6924c99a"
   },
   "outputs": [
    {
     "name": "stdout",
     "output_type": "stream",
     "text": [
      "1\n",
      "2\n",
      "3\n",
      "4\n",
      "5\n",
      "6\n",
      "7\n",
      "8\n",
      "9\n"
     ]
    }
   ],
   "source": [
    "import apache_beam as beam\n",
    "\n",
    "p2 = beam.Pipeline()\n",
    "\n",
    "lines1 = (p2\n",
    "          | beam.Create([1,2,3,4,5,6,7,8,9])\n",
    "          | beam.io.WriteToText('outputs/outCreate2')\n",
    "          )\n",
    "p2.run()\n",
    "\n",
    "# visualize output\n",
    "!{('head -n 10 outputs/outCreate2-00000-of-00001')}"
   ]
  },
  {
   "cell_type": "code",
   "execution_count": 5,
   "metadata": {
    "colab": {
     "base_uri": "https://localhost:8080/"
    },
    "id": "JvNdSN7nC03S",
    "outputId": "f3444e34-ce69-43e6-9f26-e9b476b26974"
   },
   "outputs": [
    {
     "name": "stdout",
     "output_type": "stream",
     "text": [
      "('maths', 52)\n",
      "('english', 75)\n",
      "('science', 82)\n",
      "('computer', 65)\n",
      "('maths', 85)\n"
     ]
    }
   ],
   "source": [
    "import apache_beam as beam\n",
    "\n",
    "p3 = beam.Pipeline()\n",
    "\n",
    "lines = (p3\n",
    "         | beam.Create([(\"maths\",52),(\"english\",75),(\"science\",82), (\"computer\",65),(\"maths\",85)])\n",
    "         | beam.io.WriteToText('outputs/outCreate3')\n",
    "         )\n",
    "p3.run()\n",
    "\n",
    "# visualize output\n",
    "!{('head -n 10 outputs/outCreate3-00000-of-00001')}"
   ]
  },
  {
   "cell_type": "code",
   "execution_count": 6,
   "metadata": {
    "colab": {
     "base_uri": "https://localhost:8080/"
    },
    "id": "HAMFw7uBC06a",
    "outputId": "a8412eb2-0673-4c9a-d703-9e06d0240994"
   },
   "outputs": [
    {
     "name": "stdout",
     "output_type": "stream",
     "text": [
      "('row1', [1, 2, 3, 4, 5])\n",
      "('row2', [1, 2, 3, 4, 5])\n"
     ]
    }
   ],
   "source": [
    "import apache_beam as beam\n",
    "\n",
    "p4 = beam.Pipeline()\n",
    "\n",
    "lines = ( p4\n",
    "         | beam.Create({'row1':[1,2,3,4,5],\n",
    "                        'row2':[1,2,3,4,5]})\n",
    "         | beam.Map(lambda element: element)\n",
    "         | beam.io.WriteToText('outputs/outCreate4')\n",
    "        )\n",
    "\n",
    "p4.run()\n",
    "\n",
    "# visualize output\n",
    "!{('head -n 10 outputs/outCreate4-00000-of-00001')}"
   ]
  },
  {
   "cell_type": "code",
   "execution_count": 40,
   "metadata": {
    "id": "Z5kcI7mrC090"
   },
   "outputs": [
    {
     "name": "stderr",
     "output_type": "stream",
     "text": [
      "WARNING:apache_beam.options.pipeline_options:Discarding unparseable args: ['-f', '/Users/avallarino/Library/Jupyter/runtime/kernel-4e4ba187-6fcf-4b66-a39c-cd58187abb68.json']\n"
     ]
    },
    {
     "name": "stdout",
     "output_type": "stream",
     "text": [
      "('Ninguno', 7)\n",
      "('me', 2)\n",
      "('hable', 5)\n",
      "('de', 2)\n",
      "('penas', 5)\n",
      "('porque', 6)\n",
      "('yo', 2)\n",
      "('penando', 7)\n",
      "('vivo', 4)\n",
      "('y', 1)\n",
      "('naides', 6)\n",
      "('se', 2)\n",
      "('muestre', 7)\n",
      "('altivo', 6)\n",
      "('aunque', 6)\n",
      "('en', 2)\n",
      "('el', 2)\n",
      "('estribo', 7)\n",
      "('est', 3)\n",
      "('que', 3)\n"
     ]
    }
   ],
   "source": [
    "import apache_beam as beam\n",
    "from apache_beam.options.pipeline_options import PipelineOptions\n",
    "import re\n",
    "\n",
    "argv = None\n",
    "pipeline_options = PipelineOptions(argv)\n",
    "outputs_pipe = 'output/part'\n",
    "\n",
    "with beam.Pipeline(options=pipeline_options) as pipeline:\n",
    "    lines = (\n",
    "        pipeline\n",
    "        | 'Create PCol' >> beam.Create([\"Ninguno me hable de penas\",\n",
    "                                        \"porque yo penando vivo\",\n",
    "                                        \"y naides se muestre altivo\",\n",
    "                                        \"aunque en el estribo esté\",\n",
    "                                        \"que suele quedarse a pie\",\n",
    "                                        \"el gaucho más alvertido.\"\n",
    "                                       ])\n",
    "        | 'Find words' >> beam.FlatMap(lambda line: re.findall(r\"[a-zA-Z']+\", line))\n",
    "        | 'Pair words with 1' >> beam.Map(lambda word: (word, len(word)))\n",
    "        | 'Write results' >> beam.io.WriteToText(outputs_pipe)\n",
    "    )\n",
    "    \n",
    "# visualize output\n",
    "!{('head -n 20 output/part-00000-of-00001')}      "
   ]
  }
 ],
 "metadata": {
  "colab": {
   "collapsed_sections": [],
   "name": "apache_beam_01.ipynb",
   "provenance": []
  },
  "kernelspec": {
   "display_name": "Python 3",
   "language": "python",
   "name": "python3"
  },
  "language_info": {
   "codemirror_mode": {
    "name": "ipython",
    "version": 3
   },
   "file_extension": ".py",
   "mimetype": "text/x-python",
   "name": "python",
   "nbconvert_exporter": "python",
   "pygments_lexer": "ipython3",
   "version": "3.8.0"
  }
 },
 "nbformat": 4,
 "nbformat_minor": 4
}
